{
  "cells": [
    {
      "cell_type": "markdown",
      "metadata": {
        "colab_type": "text",
        "id": "view-in-github"
      },
      "source": [
        "<a href=\"https://colab.research.google.com/github/Ankan-Nayak/CodSoft/blob/main/credit_card_fraud_rf.ipynb\" target=\"_parent\"><img src=\"https://colab.research.google.com/assets/colab-badge.svg\" alt=\"Open In Colab\"/></a>"
      ]
    },
    {
      "cell_type": "code",
      "execution_count": null,
      "metadata": {
        "id": "ONOY-3TeYH5K"
      },
      "outputs": [],
      "source": [
        "import kagglehub\n",
        "kartik2112_fraud_detection_path = kagglehub.dataset_download('kartik2112/fraud-detection')\n",
        "\n",
        "print('Data source import complete.')\n"
      ]
    },
    {
      "cell_type": "code",
      "execution_count": null,
      "metadata": {
        "execution": {
          "iopub.execute_input": "2024-04-17T16:56:53.263724Z",
          "iopub.status.busy": "2024-04-17T16:56:53.26315Z",
          "iopub.status.idle": "2024-04-17T16:56:54.717683Z",
          "shell.execute_reply": "2024-04-17T16:56:54.716493Z",
          "shell.execute_reply.started": "2024-04-17T16:56:53.263687Z"
        },
        "id": "9lc3kqoKOcoY",
        "trusted": true
      },
      "outputs": [],
      "source": [
        "import pandas as pd\n",
        "import matplotlib.pyplot as plt\n",
        "import numpy as np"
      ]
    },
    {
      "cell_type": "code",
      "execution_count": null,
      "metadata": {
        "execution": {
          "iopub.execute_input": "2024-04-17T16:56:54.721788Z",
          "iopub.status.busy": "2024-04-17T16:56:54.720394Z",
          "iopub.status.idle": "2024-04-17T16:57:09.037005Z",
          "shell.execute_reply": "2024-04-17T16:57:09.035513Z",
          "shell.execute_reply.started": "2024-04-17T16:56:54.721735Z"
        },
        "id": "WBEJ-S91OP7t",
        "trusted": true
      },
      "outputs": [],
      "source": [
        "fraudTrain_df = pd.read_csv('/kaggle/input/fraud-detection/fraudTrain.csv')"
      ]
    },
    {
      "cell_type": "code",
      "execution_count": null,
      "metadata": {
        "execution": {
          "iopub.execute_input": "2024-04-17T16:57:09.045493Z",
          "iopub.status.busy": "2024-04-17T16:57:09.045067Z",
          "iopub.status.idle": "2024-04-17T16:57:09.059036Z",
          "shell.execute_reply": "2024-04-17T16:57:09.057479Z",
          "shell.execute_reply.started": "2024-04-17T16:57:09.045457Z"
        },
        "id": "ThEWuyeq3J-D",
        "trusted": true
      },
      "outputs": [],
      "source": [
        "fraudTrain_df['is_fraud'] = fraudTrain_df['is_fraud'].astype(bool)\n"
      ]
    },
    {
      "cell_type": "code",
      "execution_count": null,
      "metadata": {
        "execution": {
          "iopub.execute_input": "2024-04-17T16:57:09.060777Z",
          "iopub.status.busy": "2024-04-17T16:57:09.060307Z",
          "iopub.status.idle": "2024-04-17T16:57:10.899735Z",
          "shell.execute_reply": "2024-04-17T16:57:10.89831Z",
          "shell.execute_reply.started": "2024-04-17T16:57:09.060733Z"
        },
        "id": "CyslJxMs890J",
        "trusted": true
      },
      "outputs": [],
      "source": [
        "fraudTrain_df.info()"
      ]
    },
    {
      "cell_type": "code",
      "execution_count": null,
      "metadata": {
        "execution": {
          "iopub.execute_input": "2024-04-17T16:57:10.901419Z",
          "iopub.status.busy": "2024-04-17T16:57:10.901086Z",
          "iopub.status.idle": "2024-04-17T16:57:10.946026Z",
          "shell.execute_reply": "2024-04-17T16:57:10.944677Z",
          "shell.execute_reply.started": "2024-04-17T16:57:10.901386Z"
        },
        "id": "bnYfGpW9OoRf",
        "trusted": true
      },
      "outputs": [],
      "source": [
        "fraudTrain_df.head()"
      ]
    },
    {
      "cell_type": "code",
      "execution_count": null,
      "metadata": {
        "execution": {
          "iopub.execute_input": "2024-04-17T16:57:10.94839Z",
          "iopub.status.busy": "2024-04-17T16:57:10.947973Z",
          "iopub.status.idle": "2024-04-17T16:57:12.927357Z",
          "shell.execute_reply": "2024-04-17T16:57:12.92607Z",
          "shell.execute_reply.started": "2024-04-17T16:57:10.948354Z"
        },
        "id": "ogGEq-3-Ot0M",
        "trusted": true
      },
      "outputs": [],
      "source": [
        "fraudTrain_df.dropna(inplace=True)"
      ]
    },
    {
      "cell_type": "code",
      "execution_count": null,
      "metadata": {
        "execution": {
          "iopub.execute_input": "2024-04-17T16:57:12.929599Z",
          "iopub.status.busy": "2024-04-17T16:57:12.929007Z",
          "iopub.status.idle": "2024-04-17T16:57:13.057739Z",
          "shell.execute_reply": "2024-04-17T16:57:13.055407Z",
          "shell.execute_reply.started": "2024-04-17T16:57:12.929538Z"
        },
        "id": "-88TVorMUI6L",
        "trusted": true
      },
      "outputs": [],
      "source": [
        "fraudTrain_df = fraudTrain_df[['cc_num','amt','lat','long','merch_lat','merch_long','is_fraud']]\n",
        "X = fraudTrain_df\n",
        "y = fraudTrain_df['is_fraud']"
      ]
    },
    {
      "cell_type": "code",
      "execution_count": null,
      "metadata": {
        "execution": {
          "iopub.execute_input": "2024-04-17T16:57:13.060105Z",
          "iopub.status.busy": "2024-04-17T16:57:13.059571Z",
          "iopub.status.idle": "2024-04-17T16:57:13.095927Z",
          "shell.execute_reply": "2024-04-17T16:57:13.09464Z",
          "shell.execute_reply.started": "2024-04-17T16:57:13.060049Z"
        },
        "id": "LqJ1-Dti0v-o",
        "trusted": true
      },
      "outputs": [],
      "source": [
        "X.drop('is_fraud',axis=1,inplace=True)"
      ]
    },
    {
      "cell_type": "code",
      "execution_count": null,
      "metadata": {
        "execution": {
          "iopub.execute_input": "2024-04-17T16:57:13.101222Z",
          "iopub.status.busy": "2024-04-17T16:57:13.1008Z",
          "iopub.status.idle": "2024-04-17T16:57:13.12226Z",
          "shell.execute_reply": "2024-04-17T16:57:13.12125Z",
          "shell.execute_reply.started": "2024-04-17T16:57:13.101185Z"
        },
        "id": "1y27pTdL05c3",
        "trusted": true
      },
      "outputs": [],
      "source": [
        "X"
      ]
    },
    {
      "cell_type": "code",
      "execution_count": null,
      "metadata": {
        "execution": {
          "iopub.execute_input": "2024-04-17T16:57:13.12375Z",
          "iopub.status.busy": "2024-04-17T16:57:13.123402Z",
          "iopub.status.idle": "2024-04-17T16:57:13.157457Z",
          "shell.execute_reply": "2024-04-17T16:57:13.156524Z",
          "shell.execute_reply.started": "2024-04-17T16:57:13.123721Z"
        },
        "id": "Kr9L7vzUPDNu",
        "trusted": true
      },
      "outputs": [],
      "source": [
        "fraudTrain_df.info()"
      ]
    },
    {
      "cell_type": "code",
      "execution_count": null,
      "metadata": {
        "execution": {
          "iopub.execute_input": "2024-04-17T16:57:13.159722Z",
          "iopub.status.busy": "2024-04-17T16:57:13.159294Z",
          "iopub.status.idle": "2024-04-17T16:57:13.178138Z",
          "shell.execute_reply": "2024-04-17T16:57:13.17696Z",
          "shell.execute_reply.started": "2024-04-17T16:57:13.159684Z"
        },
        "id": "5AGjW7rVV5LG",
        "trusted": true
      },
      "outputs": [],
      "source": [
        "fraudTrain_df.head(10)"
      ]
    },
    {
      "cell_type": "code",
      "execution_count": null,
      "metadata": {
        "execution": {
          "iopub.execute_input": "2024-04-17T16:57:13.180462Z",
          "iopub.status.busy": "2024-04-17T16:57:13.179848Z",
          "iopub.status.idle": "2024-04-17T16:57:13.1954Z",
          "shell.execute_reply": "2024-04-17T16:57:13.193249Z",
          "shell.execute_reply.started": "2024-04-17T16:57:13.180419Z"
        },
        "id": "N2F5JcDjScd7",
        "trusted": true
      },
      "outputs": [],
      "source": [
        "sample_cc_df = fraudTrain_df[fraudTrain_df.cc_num==4767265376804500]"
      ]
    },
    {
      "cell_type": "code",
      "execution_count": null,
      "metadata": {
        "execution": {
          "iopub.execute_input": "2024-04-17T16:57:13.198756Z",
          "iopub.status.busy": "2024-04-17T16:57:13.198246Z",
          "iopub.status.idle": "2024-04-17T16:57:13.219134Z",
          "shell.execute_reply": "2024-04-17T16:57:13.218102Z",
          "shell.execute_reply.started": "2024-04-17T16:57:13.198699Z"
        },
        "id": "bfHG1j-01dQO",
        "trusted": true
      },
      "outputs": [],
      "source": [
        "sample_cc_df"
      ]
    },
    {
      "cell_type": "code",
      "execution_count": null,
      "metadata": {
        "execution": {
          "iopub.execute_input": "2024-04-17T16:57:13.220507Z",
          "iopub.status.busy": "2024-04-17T16:57:13.220173Z",
          "iopub.status.idle": "2024-04-17T16:57:15.451535Z",
          "shell.execute_reply": "2024-04-17T16:57:15.450457Z",
          "shell.execute_reply.started": "2024-04-17T16:57:13.220477Z"
        },
        "id": "CY05aClP1gQ_",
        "trusted": true
      },
      "outputs": [],
      "source": [
        "from sklearn.ensemble import RandomForestClassifier"
      ]
    },
    {
      "cell_type": "code",
      "execution_count": null,
      "metadata": {
        "execution": {
          "iopub.execute_input": "2024-04-17T16:57:15.453553Z",
          "iopub.status.busy": "2024-04-17T16:57:15.45308Z",
          "iopub.status.idle": "2024-04-17T16:57:15.459832Z",
          "shell.execute_reply": "2024-04-17T16:57:15.45852Z",
          "shell.execute_reply.started": "2024-04-17T16:57:15.453509Z"
        },
        "id": "tNpj2Y5MVes3",
        "trusted": true
      },
      "outputs": [],
      "source": [
        "rf_classifier = RandomForestClassifier(n_estimators=100, random_state=42)"
      ]
    },
    {
      "cell_type": "markdown",
      "metadata": {
        "id": "pAV1Vyf619v6"
      },
      "source": [
        "To get accuracy we will split the Train Dataset"
      ]
    },
    {
      "cell_type": "code",
      "execution_count": null,
      "metadata": {
        "execution": {
          "iopub.execute_input": "2024-04-17T16:57:15.462306Z",
          "iopub.status.busy": "2024-04-17T16:57:15.461516Z",
          "iopub.status.idle": "2024-04-17T16:57:15.477043Z",
          "shell.execute_reply": "2024-04-17T16:57:15.475542Z",
          "shell.execute_reply.started": "2024-04-17T16:57:15.462268Z"
        },
        "id": "q5iXDyOi2FmB",
        "trusted": true
      },
      "outputs": [],
      "source": [
        "from sklearn.model_selection import train_test_split"
      ]
    },
    {
      "cell_type": "code",
      "execution_count": null,
      "metadata": {
        "execution": {
          "iopub.execute_input": "2024-04-17T16:57:15.478834Z",
          "iopub.status.busy": "2024-04-17T16:57:15.47849Z",
          "iopub.status.idle": "2024-04-17T16:57:15.691141Z",
          "shell.execute_reply": "2024-04-17T16:57:15.690202Z",
          "shell.execute_reply.started": "2024-04-17T16:57:15.478806Z"
        },
        "id": "RIclNZiD2A_d",
        "trusted": true
      },
      "outputs": [],
      "source": [
        "X_train, X_test, y_train, y_test = train_test_split(X, y, test_size=0.2, random_state=42)"
      ]
    },
    {
      "cell_type": "code",
      "execution_count": null,
      "metadata": {
        "execution": {
          "iopub.execute_input": "2024-04-17T16:57:15.693663Z",
          "iopub.status.busy": "2024-04-17T16:57:15.692545Z",
          "iopub.status.idle": "2024-04-17T17:08:06.356351Z",
          "shell.execute_reply": "2024-04-17T17:08:06.355328Z",
          "shell.execute_reply.started": "2024-04-17T16:57:15.693619Z"
        },
        "id": "qzpVZOON1jpG",
        "trusted": true
      },
      "outputs": [],
      "source": [
        "rf_classifier.fit(X_train,y_train)\n"
      ]
    },
    {
      "cell_type": "code",
      "execution_count": null,
      "metadata": {
        "execution": {
          "iopub.execute_input": "2024-04-17T17:08:06.358401Z",
          "iopub.status.busy": "2024-04-17T17:08:06.357526Z",
          "iopub.status.idle": "2024-04-17T17:08:10.763312Z",
          "shell.execute_reply": "2024-04-17T17:08:10.761873Z",
          "shell.execute_reply.started": "2024-04-17T17:08:06.358361Z"
        },
        "id": "ciZgBpjD4AKB",
        "trusted": true
      },
      "outputs": [],
      "source": [
        "y_pred = rf_classifier.predict(X_test)"
      ]
    },
    {
      "cell_type": "code",
      "execution_count": null,
      "metadata": {
        "execution": {
          "iopub.execute_input": "2024-04-17T17:08:10.765158Z",
          "iopub.status.busy": "2024-04-17T17:08:10.764801Z",
          "iopub.status.idle": "2024-04-17T17:08:10.770951Z",
          "shell.execute_reply": "2024-04-17T17:08:10.769413Z",
          "shell.execute_reply.started": "2024-04-17T17:08:10.765128Z"
        },
        "id": "N1l0afo35x5Q",
        "trusted": true
      },
      "outputs": [],
      "source": [
        "from sklearn.metrics import accuracy_score, confusion_matrix, classification_report"
      ]
    },
    {
      "cell_type": "code",
      "execution_count": null,
      "metadata": {
        "execution": {
          "iopub.execute_input": "2024-04-17T17:08:10.773229Z",
          "iopub.status.busy": "2024-04-17T17:08:10.772724Z",
          "iopub.status.idle": "2024-04-17T17:08:11.244201Z",
          "shell.execute_reply": "2024-04-17T17:08:11.242659Z",
          "shell.execute_reply.started": "2024-04-17T17:08:10.773175Z"
        },
        "id": "cTj6U58-5z2L",
        "trusted": true
      },
      "outputs": [],
      "source": [
        "print(\"Accuracy:\", accuracy_score(y_test, y_pred))\n",
        "print(\"Confusion Matrix:\\n\", confusion_matrix(y_test, y_pred))\n",
        "print(\"Classification Report:\\n\", classification_report(y_test, y_pred))"
      ]
    },
    {
      "cell_type": "code",
      "execution_count": null,
      "metadata": {
        "id": "lZYN0uXs513T"
      },
      "outputs": [],
      "source": []
    }
  ],
  "metadata": {
    "colab": {
      "include_colab_link": true,
      "name": "credit_card_fraud_rf",
      "provenance": []
    },
    "kaggle": {
      "accelerator": "none",
      "dataSources": [
        {
          "datasetId": 817870,
          "sourceId": 1399887,
          "sourceType": "datasetVersion"
        }
      ],
      "dockerImageVersionId": 30684,
      "isGpuEnabled": false,
      "isInternetEnabled": true,
      "language": "python",
      "sourceType": "notebook"
    },
    "kernelspec": {
      "display_name": "Python 3",
      "language": "python",
      "name": "python3"
    },
    "language_info": {
      "codemirror_mode": {
        "name": "ipython",
        "version": 3
      },
      "file_extension": ".py",
      "mimetype": "text/x-python",
      "name": "python",
      "nbconvert_exporter": "python",
      "pygments_lexer": "ipython3",
      "version": "3.10.13"
    }
  },
  "nbformat": 4,
  "nbformat_minor": 0
}
