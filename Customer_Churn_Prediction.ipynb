{
  "metadata": {
    "kernelspec": {
      "language": "python",
      "display_name": "Python 3",
      "name": "python3"
    },
    "language_info": {
      "name": "python",
      "version": "3.10.12",
      "mimetype": "text/x-python",
      "codemirror_mode": {
        "name": "ipython",
        "version": 3
      },
      "pygments_lexer": "ipython3",
      "nbconvert_exporter": "python",
      "file_extension": ".py"
    },
    "kaggle": {
      "accelerator": "none",
      "dataSources": [
        {
          "sourceId": 3322096,
          "sourceType": "datasetVersion",
          "datasetId": 2008274
        }
      ],
      "dockerImageVersionId": 30822,
      "isInternetEnabled": true,
      "language": "python",
      "sourceType": "notebook",
      "isGpuEnabled": false
    },
    "colab": {
      "name": "Customer Churn Prediction",
      "provenance": [],
      "include_colab_link": true
    }
  },
  "nbformat_minor": 0,
  "nbformat": 4,
  "cells": [
    {
      "cell_type": "markdown",
      "metadata": {
        "id": "view-in-github",
        "colab_type": "text"
      },
      "source": [
        "<a href=\"https://colab.research.google.com/github/Ankan-Nayak/CodSoft/blob/main/Customer_Churn_Prediction.ipynb\" target=\"_parent\"><img src=\"https://colab.research.google.com/assets/colab-badge.svg\" alt=\"Open In Colab\"/></a>"
      ]
    },
    {
      "source": [
        "import kagglehub\n",
        "shantanudhakadd_bank_customer_churn_prediction_path = kagglehub.dataset_download('shantanudhakadd/bank-customer-churn-prediction')\n",
        "\n",
        "print('Data source import complete.')\n"
      ],
      "metadata": {
        "id": "O1r8erBeYySU"
      },
      "cell_type": "code",
      "outputs": [],
      "execution_count": null
    },
    {
      "cell_type": "code",
      "source": [
        "import numpy as np # linear algebra\n",
        "import pandas as pd # data processing, CSV file I/O (e.g. pd.read_csv)\n",
        "\n",
        "# Input data files are available in the read-only \"../input/\" directory\n",
        "# For example, running this (by clicking run or pressing Shift+Enter) will list all files under the input directory\n",
        "\n",
        "import os\n",
        "for dirname, _, filenames in os.walk('/kaggle/input'):\n",
        "    for filename in filenames:\n",
        "        print(os.path.join(dirname, filename))\n",
        "\n",
        "# You can write up to 20GB to the current directory (/kaggle/working/) that gets preserved as output when you create a version using \"Save & Run All\"\n",
        "# You can also write temporary files to /kaggle/temp/, but they won't be saved outside of the current session"
      ],
      "metadata": {
        "_uuid": "8f2839f25d086af736a60e9eeb907d3b93b6e0e5",
        "_cell_guid": "b1076dfc-b9ad-4769-8c92-a6c4dae69d19",
        "trusted": true,
        "execution": {
          "iopub.status.busy": "2025-01-01T16:30:08.139828Z",
          "iopub.execute_input": "2025-01-01T16:30:08.14021Z",
          "iopub.status.idle": "2025-01-01T16:30:08.557649Z",
          "shell.execute_reply.started": "2025-01-01T16:30:08.140178Z",
          "shell.execute_reply": "2025-01-01T16:30:08.556492Z"
        },
        "id": "QAj5Sp53YySW"
      },
      "outputs": [],
      "execution_count": null
    },
    {
      "cell_type": "code",
      "source": [
        "from sklearn.preprocessing import LabelEncoder\n",
        "from sklearn.model_selection import train_test_split\n",
        "from sklearn.ensemble import RandomForestClassifier\n",
        "from sklearn.metrics import accuracy_score, classification_report, confusion_matrix, roc_curve, auc\n",
        "import matplotlib.pyplot as plt\n",
        "import seaborn as sns\n",
        "import numpy as np\n",
        "import pandas as pd\n",
        "import warnings\n",
        "warnings.filterwarnings(\"ignore\")"
      ],
      "metadata": {
        "trusted": true,
        "execution": {
          "iopub.status.busy": "2025-01-01T16:31:34.373995Z",
          "iopub.execute_input": "2025-01-01T16:31:34.374414Z",
          "iopub.status.idle": "2025-01-01T16:31:34.380231Z",
          "shell.execute_reply.started": "2025-01-01T16:31:34.374383Z",
          "shell.execute_reply": "2025-01-01T16:31:34.379065Z"
        },
        "id": "jVoqyZWGYySX"
      },
      "outputs": [],
      "execution_count": null
    },
    {
      "cell_type": "code",
      "source": [
        "df=pd.read_csv('/kaggle/input/bank-customer-churn-prediction/Churn_Modelling.csv')\n",
        "df"
      ],
      "metadata": {
        "trusted": true,
        "execution": {
          "iopub.status.busy": "2025-01-01T16:31:42.089067Z",
          "iopub.execute_input": "2025-01-01T16:31:42.089448Z",
          "iopub.status.idle": "2025-01-01T16:31:42.306303Z",
          "shell.execute_reply.started": "2025-01-01T16:31:42.089414Z",
          "shell.execute_reply": "2025-01-01T16:31:42.305242Z"
        },
        "id": "rRxxeRwDYySY"
      },
      "outputs": [],
      "execution_count": null
    },
    {
      "cell_type": "code",
      "source": [
        "# Data is Clear\n",
        "df.info()"
      ],
      "metadata": {
        "trusted": true,
        "execution": {
          "iopub.status.busy": "2025-01-01T16:32:01.32874Z",
          "iopub.execute_input": "2025-01-01T16:32:01.329077Z",
          "iopub.status.idle": "2025-01-01T16:32:01.355123Z",
          "shell.execute_reply.started": "2025-01-01T16:32:01.329049Z",
          "shell.execute_reply": "2025-01-01T16:32:01.354192Z"
        },
        "id": "tUXnPkgpYySY"
      },
      "outputs": [],
      "execution_count": null
    },
    {
      "cell_type": "code",
      "source": [
        "df[\"Geography\"].unique() # Three countries"
      ],
      "metadata": {
        "trusted": true,
        "execution": {
          "iopub.status.busy": "2025-01-01T16:32:10.568713Z",
          "iopub.execute_input": "2025-01-01T16:32:10.569073Z",
          "iopub.status.idle": "2025-01-01T16:32:10.577726Z",
          "shell.execute_reply.started": "2025-01-01T16:32:10.56904Z",
          "shell.execute_reply": "2025-01-01T16:32:10.576611Z"
        },
        "id": "5d9jtDO9YySZ"
      },
      "outputs": [],
      "execution_count": null
    },
    {
      "cell_type": "code",
      "source": [
        "df.describe()"
      ],
      "metadata": {
        "trusted": true,
        "execution": {
          "iopub.status.busy": "2025-01-01T16:32:17.36935Z",
          "iopub.execute_input": "2025-01-01T16:32:17.369746Z",
          "iopub.status.idle": "2025-01-01T16:32:17.411432Z",
          "shell.execute_reply.started": "2025-01-01T16:32:17.369712Z",
          "shell.execute_reply": "2025-01-01T16:32:17.410413Z"
        },
        "id": "R8wICKTlYySZ"
      },
      "outputs": [],
      "execution_count": null
    },
    {
      "cell_type": "code",
      "source": [
        "#delete unneeded columns\n",
        "df.drop(columns=['RowNumber','CustomerId','Surname'],inplace=True)\n",
        "df"
      ],
      "metadata": {
        "trusted": true,
        "execution": {
          "iopub.status.busy": "2025-01-01T16:32:24.609032Z",
          "iopub.execute_input": "2025-01-01T16:32:24.609377Z",
          "iopub.status.idle": "2025-01-01T16:32:24.630081Z",
          "shell.execute_reply.started": "2025-01-01T16:32:24.609349Z",
          "shell.execute_reply": "2025-01-01T16:32:24.629079Z"
        },
        "id": "_dIkvmwnYySa"
      },
      "outputs": [],
      "execution_count": null
    },
    {
      "cell_type": "code",
      "source": [
        "labelencoder=LabelEncoder()\n",
        "df['Gender']=labelencoder.fit_transform(df['Gender'])\n",
        "df['Geography']=labelencoder.fit_transform(df['Geography'])\n",
        "df"
      ],
      "metadata": {
        "trusted": true,
        "execution": {
          "iopub.status.busy": "2025-01-01T16:32:35.168993Z",
          "iopub.execute_input": "2025-01-01T16:32:35.169353Z",
          "iopub.status.idle": "2025-01-01T16:32:35.189584Z",
          "shell.execute_reply.started": "2025-01-01T16:32:35.169323Z",
          "shell.execute_reply": "2025-01-01T16:32:35.18847Z"
        },
        "id": "5CM-h_7WYySb"
      },
      "outputs": [],
      "execution_count": null
    },
    {
      "cell_type": "code",
      "source": [
        "# Data Is Ready Now\n",
        "df.dtypes"
      ],
      "metadata": {
        "trusted": true,
        "execution": {
          "iopub.status.busy": "2025-01-01T16:33:02.889272Z",
          "iopub.execute_input": "2025-01-01T16:33:02.889801Z",
          "iopub.status.idle": "2025-01-01T16:33:02.898089Z",
          "shell.execute_reply.started": "2025-01-01T16:33:02.88975Z",
          "shell.execute_reply": "2025-01-01T16:33:02.897098Z"
        },
        "id": "VKccf4eDYySb"
      },
      "outputs": [],
      "execution_count": null
    },
    {
      "cell_type": "code",
      "source": [
        "x=df.drop(columns='Exited') # droping coulmn from the feature\n",
        "y=df['Exited']"
      ],
      "metadata": {
        "trusted": true,
        "execution": {
          "iopub.status.busy": "2025-01-01T16:33:09.375125Z",
          "iopub.execute_input": "2025-01-01T16:33:09.375607Z",
          "iopub.status.idle": "2025-01-01T16:33:09.381699Z",
          "shell.execute_reply.started": "2025-01-01T16:33:09.375565Z",
          "shell.execute_reply": "2025-01-01T16:33:09.380578Z"
        },
        "id": "JO4GrsttYySc"
      },
      "outputs": [],
      "execution_count": null
    },
    {
      "cell_type": "code",
      "source": [
        "x_train,x_test,y_train,y_test=train_test_split(x,y,test_size=0.3,shuffle=True,random_state=40)"
      ],
      "metadata": {
        "trusted": true,
        "execution": {
          "iopub.status.busy": "2025-01-01T16:33:17.68904Z",
          "iopub.execute_input": "2025-01-01T16:33:17.689403Z",
          "iopub.status.idle": "2025-01-01T16:33:17.699629Z",
          "shell.execute_reply.started": "2025-01-01T16:33:17.689374Z",
          "shell.execute_reply": "2025-01-01T16:33:17.698652Z"
        },
        "id": "tRvnsVnrYySc"
      },
      "outputs": [],
      "execution_count": null
    },
    {
      "cell_type": "code",
      "source": [
        "model=RandomForestClassifier()\n",
        "model.fit(x_train,y_train)"
      ],
      "metadata": {
        "trusted": true,
        "execution": {
          "iopub.status.busy": "2025-01-01T16:33:24.568941Z",
          "iopub.execute_input": "2025-01-01T16:33:24.569283Z",
          "iopub.status.idle": "2025-01-01T16:33:25.637037Z",
          "shell.execute_reply.started": "2025-01-01T16:33:24.569255Z",
          "shell.execute_reply": "2025-01-01T16:33:25.635974Z"
        },
        "id": "LMQY6tSMYySd"
      },
      "outputs": [],
      "execution_count": null
    },
    {
      "cell_type": "code",
      "source": [
        "model.score(x_train,y_train)"
      ],
      "metadata": {
        "trusted": true,
        "execution": {
          "iopub.status.busy": "2025-01-01T16:33:31.084368Z",
          "iopub.execute_input": "2025-01-01T16:33:31.084754Z",
          "iopub.status.idle": "2025-01-01T16:33:31.208655Z",
          "shell.execute_reply.started": "2025-01-01T16:33:31.08472Z",
          "shell.execute_reply": "2025-01-01T16:33:31.207694Z"
        },
        "id": "lsA2QkF2YySd"
      },
      "outputs": [],
      "execution_count": null
    },
    {
      "cell_type": "code",
      "source": [
        "y_pred = model.predict(x_test)\n",
        "y_pred\n"
      ],
      "metadata": {
        "trusted": true,
        "execution": {
          "iopub.status.busy": "2025-01-01T16:33:44.248862Z",
          "iopub.execute_input": "2025-01-01T16:33:44.249225Z",
          "iopub.status.idle": "2025-01-01T16:33:44.312085Z",
          "shell.execute_reply.started": "2025-01-01T16:33:44.249192Z",
          "shell.execute_reply": "2025-01-01T16:33:44.311076Z"
        },
        "id": "DWPUGnJQYySd"
      },
      "outputs": [],
      "execution_count": null
    },
    {
      "cell_type": "code",
      "source": [
        "len(y_pred)"
      ],
      "metadata": {
        "trusted": true,
        "execution": {
          "iopub.status.busy": "2025-01-01T16:33:50.049068Z",
          "iopub.execute_input": "2025-01-01T16:33:50.049415Z",
          "iopub.status.idle": "2025-01-01T16:33:50.055129Z",
          "shell.execute_reply.started": "2025-01-01T16:33:50.049387Z",
          "shell.execute_reply": "2025-01-01T16:33:50.054075Z"
        },
        "id": "41eUs2yoYySd"
      },
      "outputs": [],
      "execution_count": null
    },
    {
      "cell_type": "code",
      "source": [
        "accuracy = accuracy_score(y_test, y_pred)\n",
        "print(\"Accuracy: {:.2f}%\".format(accuracy * 100))"
      ],
      "metadata": {
        "trusted": true,
        "execution": {
          "iopub.status.busy": "2025-01-01T16:33:57.809073Z",
          "iopub.execute_input": "2025-01-01T16:33:57.809448Z",
          "iopub.status.idle": "2025-01-01T16:33:57.816453Z",
          "shell.execute_reply.started": "2025-01-01T16:33:57.809416Z",
          "shell.execute_reply": "2025-01-01T16:33:57.8155Z"
        },
        "id": "1NFsVM_QYySe"
      },
      "outputs": [],
      "execution_count": null
    },
    {
      "cell_type": "code",
      "source": [
        "# visualization\n",
        "y_prob = model.predict_proba(x_test)[:, 1]\n",
        "fpr, tpr, thresholds = roc_curve(y_test, y_prob)\n",
        "\n",
        "plt.figure(figsize=(10, 5))\n",
        "plt.plot(fpr, tpr, color='blue', lw=2)\n",
        "plt.plot([0, 1], [0, 1], color='black', lw=2)\n",
        "plt.xlabel('False Positive Rate')\n",
        "plt.ylabel('True Positive Rate')\n",
        "plt.title('RandomForestClassifier\\nAccuracy: {:.2f}%'.format(accuracy * 100))\n",
        "plt.show()"
      ],
      "metadata": {
        "trusted": true,
        "execution": {
          "iopub.status.busy": "2025-01-01T16:34:09.049319Z",
          "iopub.execute_input": "2025-01-01T16:34:09.049704Z",
          "iopub.status.idle": "2025-01-01T16:34:09.460123Z",
          "shell.execute_reply.started": "2025-01-01T16:34:09.04967Z",
          "shell.execute_reply": "2025-01-01T16:34:09.459104Z"
        },
        "id": "05wUQc6mYySe"
      },
      "outputs": [],
      "execution_count": null
    },
    {
      "cell_type": "code",
      "source": [],
      "metadata": {
        "trusted": true,
        "id": "jutpoZsjYySe"
      },
      "outputs": [],
      "execution_count": null
    }
  ]
}