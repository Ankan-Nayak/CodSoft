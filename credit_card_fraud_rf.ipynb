{
  "metadata": {
    "colab": {
      "provenance": [],
      "name": "credit_card_fraud_rf",
      "include_colab_link": true
    },
    "kernelspec": {
      "name": "python3",
      "display_name": "Python 3",
      "language": "python"
    },
    "language_info": {
      "name": "python",
      "version": "3.10.13",
      "mimetype": "text/x-python",
      "codemirror_mode": {
        "name": "ipython",
        "version": 3
      },
      "pygments_lexer": "ipython3",
      "nbconvert_exporter": "python",
      "file_extension": ".py"
    },
    "kaggle": {
      "accelerator": "none",
      "dataSources": [
        {
          "sourceId": 1399887,
          "sourceType": "datasetVersion",
          "datasetId": 817870
        }
      ],
      "dockerImageVersionId": 30684,
      "isInternetEnabled": true,
      "language": "python",
      "sourceType": "notebook",
      "isGpuEnabled": false
    }
  },
  "nbformat_minor": 0,
  "nbformat": 4,
  "cells": [
    {
      "cell_type": "markdown",
      "metadata": {
        "id": "view-in-github",
        "colab_type": "text"
      },
      "source": [
        "<a href=\"https://colab.research.google.com/github/Ankan-Nayak/CodSoft/blob/main/credit_card_fraud_rf.ipynb\" target=\"_parent\"><img src=\"https://colab.research.google.com/assets/colab-badge.svg\" alt=\"Open In Colab\"/></a>"
      ]
    },
    {
      "source": [
        "import kagglehub\n",
        "kartik2112_fraud_detection_path = kagglehub.dataset_download('kartik2112/fraud-detection')\n",
        "\n",
        "print('Data source import complete.')\n"
      ],
      "metadata": {
        "id": "ONOY-3TeYH5K"
      },
      "cell_type": "code",
      "outputs": [],
      "execution_count": null
    },
    {
      "cell_type": "code",
      "source": [
        "import pandas as pd\n",
        "import matplotlib.pyplot as plt\n",
        "import numpy as np"
      ],
      "metadata": {
        "id": "9lc3kqoKOcoY",
        "execution": {
          "iopub.status.busy": "2024-04-17T16:56:53.26315Z",
          "iopub.execute_input": "2024-04-17T16:56:53.263724Z",
          "iopub.status.idle": "2024-04-17T16:56:54.717683Z",
          "shell.execute_reply.started": "2024-04-17T16:56:53.263687Z",
          "shell.execute_reply": "2024-04-17T16:56:54.716493Z"
        },
        "trusted": true
      },
      "execution_count": null,
      "outputs": []
    },
    {
      "cell_type": "code",
      "source": [
        "fraudTrain_df = pd.read_csv('/kaggle/input/fraud-detection/fraudTrain.csv')"
      ],
      "metadata": {
        "id": "WBEJ-S91OP7t",
        "execution": {
          "iopub.status.busy": "2024-04-17T16:56:54.720394Z",
          "iopub.execute_input": "2024-04-17T16:56:54.721788Z",
          "iopub.status.idle": "2024-04-17T16:57:09.037005Z",
          "shell.execute_reply.started": "2024-04-17T16:56:54.721735Z",
          "shell.execute_reply": "2024-04-17T16:57:09.035513Z"
        },
        "trusted": true
      },
      "execution_count": null,
      "outputs": []
    },
    {
      "cell_type": "code",
      "source": [
        "fraudTrain_df['is_fraud'] = fraudTrain_df['is_fraud'].astype(bool)\n"
      ],
      "metadata": {
        "id": "ThEWuyeq3J-D",
        "execution": {
          "iopub.status.busy": "2024-04-17T16:57:09.045067Z",
          "iopub.execute_input": "2024-04-17T16:57:09.045493Z",
          "iopub.status.idle": "2024-04-17T16:57:09.059036Z",
          "shell.execute_reply.started": "2024-04-17T16:57:09.045457Z",
          "shell.execute_reply": "2024-04-17T16:57:09.057479Z"
        },
        "trusted": true
      },
      "execution_count": null,
      "outputs": []
    },
    {
      "cell_type": "code",
      "source": [
        "fraudTrain_df.info()"
      ],
      "metadata": {
        "id": "CyslJxMs890J",
        "execution": {
          "iopub.status.busy": "2024-04-17T16:57:09.060307Z",
          "iopub.execute_input": "2024-04-17T16:57:09.060777Z",
          "iopub.status.idle": "2024-04-17T16:57:10.899735Z",
          "shell.execute_reply.started": "2024-04-17T16:57:09.060733Z",
          "shell.execute_reply": "2024-04-17T16:57:10.89831Z"
        },
        "trusted": true
      },
      "execution_count": null,
      "outputs": []
    },
    {
      "cell_type": "code",
      "source": [
        "fraudTrain_df.head()"
      ],
      "metadata": {
        "id": "bnYfGpW9OoRf",
        "execution": {
          "iopub.status.busy": "2024-04-17T16:57:10.901086Z",
          "iopub.execute_input": "2024-04-17T16:57:10.901419Z",
          "iopub.status.idle": "2024-04-17T16:57:10.946026Z",
          "shell.execute_reply.started": "2024-04-17T16:57:10.901386Z",
          "shell.execute_reply": "2024-04-17T16:57:10.944677Z"
        },
        "trusted": true
      },
      "execution_count": null,
      "outputs": []
    },
    {
      "cell_type": "code",
      "source": [
        "fraudTrain_df.dropna(inplace=True)"
      ],
      "metadata": {
        "id": "ogGEq-3-Ot0M",
        "execution": {
          "iopub.status.busy": "2024-04-17T16:57:10.947973Z",
          "iopub.execute_input": "2024-04-17T16:57:10.94839Z",
          "iopub.status.idle": "2024-04-17T16:57:12.927357Z",
          "shell.execute_reply.started": "2024-04-17T16:57:10.948354Z",
          "shell.execute_reply": "2024-04-17T16:57:12.92607Z"
        },
        "trusted": true
      },
      "execution_count": null,
      "outputs": []
    },
    {
      "cell_type": "code",
      "source": [
        "fraudTrain_df = fraudTrain_df[['cc_num','amt','lat','long','merch_lat','merch_long','is_fraud']]\n",
        "X = fraudTrain_df\n",
        "y = fraudTrain_df['is_fraud']"
      ],
      "metadata": {
        "id": "-88TVorMUI6L",
        "execution": {
          "iopub.status.busy": "2024-04-17T16:57:12.929007Z",
          "iopub.execute_input": "2024-04-17T16:57:12.929599Z",
          "iopub.status.idle": "2024-04-17T16:57:13.057739Z",
          "shell.execute_reply.started": "2024-04-17T16:57:12.929538Z",
          "shell.execute_reply": "2024-04-17T16:57:13.055407Z"
        },
        "trusted": true
      },
      "execution_count": null,
      "outputs": []
    },
    {
      "cell_type": "code",
      "source": [
        "X.drop('is_fraud',axis=1,inplace=True)"
      ],
      "metadata": {
        "id": "LqJ1-Dti0v-o",
        "execution": {
          "iopub.status.busy": "2024-04-17T16:57:13.059571Z",
          "iopub.execute_input": "2024-04-17T16:57:13.060105Z",
          "iopub.status.idle": "2024-04-17T16:57:13.095927Z",
          "shell.execute_reply.started": "2024-04-17T16:57:13.060049Z",
          "shell.execute_reply": "2024-04-17T16:57:13.09464Z"
        },
        "trusted": true
      },
      "execution_count": null,
      "outputs": []
    },
    {
      "cell_type": "code",
      "source": [
        "X"
      ],
      "metadata": {
        "id": "1y27pTdL05c3",
        "execution": {
          "iopub.status.busy": "2024-04-17T16:57:13.1008Z",
          "iopub.execute_input": "2024-04-17T16:57:13.101222Z",
          "iopub.status.idle": "2024-04-17T16:57:13.12226Z",
          "shell.execute_reply.started": "2024-04-17T16:57:13.101185Z",
          "shell.execute_reply": "2024-04-17T16:57:13.12125Z"
        },
        "trusted": true
      },
      "execution_count": null,
      "outputs": []
    },
    {
      "cell_type": "code",
      "source": [
        "fraudTrain_df.info()"
      ],
      "metadata": {
        "id": "Kr9L7vzUPDNu",
        "execution": {
          "iopub.status.busy": "2024-04-17T16:57:13.123402Z",
          "iopub.execute_input": "2024-04-17T16:57:13.12375Z",
          "iopub.status.idle": "2024-04-17T16:57:13.157457Z",
          "shell.execute_reply.started": "2024-04-17T16:57:13.123721Z",
          "shell.execute_reply": "2024-04-17T16:57:13.156524Z"
        },
        "trusted": true
      },
      "execution_count": null,
      "outputs": []
    },
    {
      "cell_type": "code",
      "source": [
        "fraudTrain_df.head(10)"
      ],
      "metadata": {
        "id": "5AGjW7rVV5LG",
        "execution": {
          "iopub.status.busy": "2024-04-17T16:57:13.159294Z",
          "iopub.execute_input": "2024-04-17T16:57:13.159722Z",
          "iopub.status.idle": "2024-04-17T16:57:13.178138Z",
          "shell.execute_reply.started": "2024-04-17T16:57:13.159684Z",
          "shell.execute_reply": "2024-04-17T16:57:13.17696Z"
        },
        "trusted": true
      },
      "execution_count": null,
      "outputs": []
    },
    {
      "cell_type": "code",
      "source": [
        "sample_cc_df = fraudTrain_df[fraudTrain_df.cc_num==4767265376804500]"
      ],
      "metadata": {
        "id": "N2F5JcDjScd7",
        "execution": {
          "iopub.status.busy": "2024-04-17T16:57:13.179848Z",
          "iopub.execute_input": "2024-04-17T16:57:13.180462Z",
          "iopub.status.idle": "2024-04-17T16:57:13.1954Z",
          "shell.execute_reply.started": "2024-04-17T16:57:13.180419Z",
          "shell.execute_reply": "2024-04-17T16:57:13.193249Z"
        },
        "trusted": true
      },
      "execution_count": null,
      "outputs": []
    },
    {
      "cell_type": "code",
      "source": [
        "sample_cc_df"
      ],
      "metadata": {
        "id": "bfHG1j-01dQO",
        "execution": {
          "iopub.status.busy": "2024-04-17T16:57:13.198246Z",
          "iopub.execute_input": "2024-04-17T16:57:13.198756Z",
          "iopub.status.idle": "2024-04-17T16:57:13.219134Z",
          "shell.execute_reply.started": "2024-04-17T16:57:13.198699Z",
          "shell.execute_reply": "2024-04-17T16:57:13.218102Z"
        },
        "trusted": true
      },
      "execution_count": null,
      "outputs": []
    },
    {
      "cell_type": "code",
      "source": [
        "from sklearn.ensemble import RandomForestClassifier"
      ],
      "metadata": {
        "id": "CY05aClP1gQ_",
        "execution": {
          "iopub.status.busy": "2024-04-17T16:57:13.220173Z",
          "iopub.execute_input": "2024-04-17T16:57:13.220507Z",
          "iopub.status.idle": "2024-04-17T16:57:15.451535Z",
          "shell.execute_reply.started": "2024-04-17T16:57:13.220477Z",
          "shell.execute_reply": "2024-04-17T16:57:15.450457Z"
        },
        "trusted": true
      },
      "execution_count": null,
      "outputs": []
    },
    {
      "cell_type": "code",
      "source": [
        "rf_classifier = RandomForestClassifier(n_estimators=100, random_state=42)"
      ],
      "metadata": {
        "id": "tNpj2Y5MVes3",
        "execution": {
          "iopub.status.busy": "2024-04-17T16:57:15.45308Z",
          "iopub.execute_input": "2024-04-17T16:57:15.453553Z",
          "iopub.status.idle": "2024-04-17T16:57:15.459832Z",
          "shell.execute_reply.started": "2024-04-17T16:57:15.453509Z",
          "shell.execute_reply": "2024-04-17T16:57:15.45852Z"
        },
        "trusted": true
      },
      "execution_count": null,
      "outputs": []
    },
    {
      "cell_type": "markdown",
      "source": [
        "To get accuracy we will split the Train Dataset"
      ],
      "metadata": {
        "id": "pAV1Vyf619v6"
      }
    },
    {
      "cell_type": "code",
      "source": [
        "from sklearn.model_selection import train_test_split"
      ],
      "metadata": {
        "id": "q5iXDyOi2FmB",
        "execution": {
          "iopub.status.busy": "2024-04-17T16:57:15.461516Z",
          "iopub.execute_input": "2024-04-17T16:57:15.462306Z",
          "iopub.status.idle": "2024-04-17T16:57:15.477043Z",
          "shell.execute_reply.started": "2024-04-17T16:57:15.462268Z",
          "shell.execute_reply": "2024-04-17T16:57:15.475542Z"
        },
        "trusted": true
      },
      "execution_count": null,
      "outputs": []
    },
    {
      "cell_type": "code",
      "source": [
        "X_train, X_test, y_train, y_test = train_test_split(X, y, test_size=0.2, random_state=42)"
      ],
      "metadata": {
        "id": "RIclNZiD2A_d",
        "execution": {
          "iopub.status.busy": "2024-04-17T16:57:15.47849Z",
          "iopub.execute_input": "2024-04-17T16:57:15.478834Z",
          "iopub.status.idle": "2024-04-17T16:57:15.691141Z",
          "shell.execute_reply.started": "2024-04-17T16:57:15.478806Z",
          "shell.execute_reply": "2024-04-17T16:57:15.690202Z"
        },
        "trusted": true
      },
      "execution_count": null,
      "outputs": []
    },
    {
      "cell_type": "code",
      "source": [
        "rf_classifier.fit(X_train,y_train)\n"
      ],
      "metadata": {
        "id": "qzpVZOON1jpG",
        "execution": {
          "iopub.status.busy": "2024-04-17T16:57:15.692545Z",
          "iopub.execute_input": "2024-04-17T16:57:15.693663Z",
          "iopub.status.idle": "2024-04-17T17:08:06.356351Z",
          "shell.execute_reply.started": "2024-04-17T16:57:15.693619Z",
          "shell.execute_reply": "2024-04-17T17:08:06.355328Z"
        },
        "trusted": true
      },
      "execution_count": null,
      "outputs": []
    },
    {
      "cell_type": "code",
      "source": [
        "y_pred = rf_classifier.predict(X_test)"
      ],
      "metadata": {
        "id": "ciZgBpjD4AKB",
        "execution": {
          "iopub.status.busy": "2024-04-17T17:08:06.357526Z",
          "iopub.execute_input": "2024-04-17T17:08:06.358401Z",
          "iopub.status.idle": "2024-04-17T17:08:10.763312Z",
          "shell.execute_reply.started": "2024-04-17T17:08:06.358361Z",
          "shell.execute_reply": "2024-04-17T17:08:10.761873Z"
        },
        "trusted": true
      },
      "execution_count": null,
      "outputs": []
    },
    {
      "cell_type": "code",
      "source": [
        "from sklearn.metrics import accuracy_score, confusion_matrix, classification_report"
      ],
      "metadata": {
        "id": "N1l0afo35x5Q",
        "execution": {
          "iopub.status.busy": "2024-04-17T17:08:10.764801Z",
          "iopub.execute_input": "2024-04-17T17:08:10.765158Z",
          "iopub.status.idle": "2024-04-17T17:08:10.770951Z",
          "shell.execute_reply.started": "2024-04-17T17:08:10.765128Z",
          "shell.execute_reply": "2024-04-17T17:08:10.769413Z"
        },
        "trusted": true
      },
      "execution_count": null,
      "outputs": []
    },
    {
      "cell_type": "code",
      "source": [
        "print(\"Accuracy:\", accuracy_score(y_test, y_pred))\n",
        "print(\"Confusion Matrix:\\n\", confusion_matrix(y_test, y_pred))\n",
        "print(\"Classification Report:\\n\", classification_report(y_test, y_pred))"
      ],
      "metadata": {
        "id": "cTj6U58-5z2L",
        "execution": {
          "iopub.status.busy": "2024-04-17T17:08:10.772724Z",
          "iopub.execute_input": "2024-04-17T17:08:10.773229Z",
          "iopub.status.idle": "2024-04-17T17:08:11.244201Z",
          "shell.execute_reply.started": "2024-04-17T17:08:10.773175Z",
          "shell.execute_reply": "2024-04-17T17:08:11.242659Z"
        },
        "trusted": true
      },
      "execution_count": null,
      "outputs": []
    },
    {
      "cell_type": "code",
      "source": [],
      "metadata": {
        "id": "lZYN0uXs513T"
      },
      "execution_count": null,
      "outputs": []
    }
  ]
}