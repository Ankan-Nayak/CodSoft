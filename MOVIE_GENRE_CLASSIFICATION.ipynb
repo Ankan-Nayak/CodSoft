{
  "metadata": {
    "kernelspec": {
      "name": "python3",
      "display_name": "Python 3",
      "language": "python"
    },
    "language_info": {
      "name": "python",
      "version": "3.10.12",
      "mimetype": "text/x-python",
      "codemirror_mode": {
        "name": "ipython",
        "version": 3
      },
      "pygments_lexer": "ipython3",
      "nbconvert_exporter": "python",
      "file_extension": ".py"
    },
    "kaggle": {
      "accelerator": "none",
      "dataSources": [
        {
          "sourceId": 2347441,
          "sourceType": "datasetVersion",
          "datasetId": 1417162
        }
      ],
      "dockerImageVersionId": 30822,
      "isInternetEnabled": true,
      "language": "python",
      "sourceType": "notebook",
      "isGpuEnabled": false
    },
    "colab": {
      "name": "Genre Classification Dataset IMDb",
      "provenance": [],
      "include_colab_link": true
    }
  },
  "nbformat_minor": 0,
  "nbformat": 4,
  "cells": [
    {
      "cell_type": "markdown",
      "metadata": {
        "id": "view-in-github",
        "colab_type": "text"
      },
      "source": [
        "<a href=\"https://colab.research.google.com/github/Ankan-Nayak/CodSoft/blob/main/Genre_Classification_Dataset_IMDb.ipynb\" target=\"_parent\"><img src=\"https://colab.research.google.com/assets/colab-badge.svg\" alt=\"Open In Colab\"/></a>"
      ]
    },
    {
      "source": [
        "# IMPORTANT: RUN THIS CELL IN ORDER TO IMPORT YOUR KAGGLE DATA SOURCES,\n",
        "# THEN FEEL FREE TO DELETE THIS CELL.\n",
        "# NOTE: THIS NOTEBOOK ENVIRONMENT DIFFERS FROM KAGGLE'S PYTHON\n",
        "# ENVIRONMENT SO THERE MAY BE MISSING LIBRARIES USED BY YOUR\n",
        "# NOTEBOOK.\n",
        "import kagglehub\n",
        "hijest_genre_classification_dataset_imdb_path = kagglehub.dataset_download('hijest/genre-classification-dataset-imdb')\n",
        "\n",
        "print('Data source import complete.')\n"
      ],
      "metadata": {
        "id": "JmnP05z6URxI"
      },
      "cell_type": "code",
      "outputs": [],
      "execution_count": null
    },
    {
      "cell_type": "code",
      "source": [
        "import pandas as pd\n",
        "import numpy as np\n",
        "import matplotlib.pyplot as plt\n",
        "import seaborn as sns"
      ],
      "metadata": {
        "trusted": true,
        "execution": {
          "iopub.status.busy": "2024-12-22T23:47:49.747113Z",
          "iopub.execute_input": "2024-12-22T23:47:49.747455Z",
          "iopub.status.idle": "2024-12-22T23:47:51.488694Z",
          "shell.execute_reply.started": "2024-12-22T23:47:49.747426Z",
          "shell.execute_reply": "2024-12-22T23:47:51.487396Z"
        },
        "id": "db45ec8b-9918-4a71-a838-35354aa8697e"
      },
      "outputs": [],
      "execution_count": null
    },
    {
      "cell_type": "code",
      "source": [
        "df = pd.read_csv(\"/kaggle/input/genre-classification-dataset-imdb/Genre Classification Dataset/train_data.txt\",sep=':::',names=['title', 'genre', 'description'],engine=\"python\")\n",
        "df_test = pd.read_csv(\"/kaggle/input/genre-classification-dataset-imdb/Genre Classification Dataset/test_data.txt\",sep=':::',names=['id', 'title', 'description'],engine=\"python\")"
      ],
      "metadata": {
        "trusted": true,
        "execution": {
          "iopub.status.busy": "2024-12-22T23:47:51.489892Z",
          "iopub.execute_input": "2024-12-22T23:47:51.49046Z",
          "iopub.status.idle": "2024-12-22T23:47:53.182656Z",
          "shell.execute_reply.started": "2024-12-22T23:47:51.490421Z",
          "shell.execute_reply": "2024-12-22T23:47:53.181351Z"
        },
        "id": "5e707c60-7c0e-4bd6-b131-ad4bf91a231d"
      },
      "outputs": [],
      "execution_count": null
    },
    {
      "cell_type": "code",
      "source": [
        "df.head(5)"
      ],
      "metadata": {
        "trusted": true,
        "execution": {
          "iopub.status.busy": "2024-12-22T23:47:53.184187Z",
          "iopub.execute_input": "2024-12-22T23:47:53.184624Z",
          "iopub.status.idle": "2024-12-22T23:47:53.206301Z",
          "shell.execute_reply.started": "2024-12-22T23:47:53.184582Z",
          "shell.execute_reply": "2024-12-22T23:47:53.204723Z"
        },
        "id": "2e493730-4352-49ff-a0ba-91e0ba4a6ffb"
      },
      "outputs": [],
      "execution_count": null
    },
    {
      "cell_type": "code",
      "source": [
        "df.isnull().sum()"
      ],
      "metadata": {
        "trusted": true,
        "execution": {
          "iopub.status.busy": "2024-12-22T23:47:53.20933Z",
          "iopub.execute_input": "2024-12-22T23:47:53.209721Z",
          "iopub.status.idle": "2024-12-22T23:47:53.234301Z",
          "shell.execute_reply.started": "2024-12-22T23:47:53.209689Z",
          "shell.execute_reply": "2024-12-22T23:47:53.232896Z"
        },
        "id": "36a455fe-01d3-499b-841d-99e21b74f33c"
      },
      "outputs": [],
      "execution_count": null
    },
    {
      "cell_type": "code",
      "source": [
        "df.dtypes"
      ],
      "metadata": {
        "trusted": true,
        "execution": {
          "iopub.status.busy": "2024-12-22T23:47:53.239273Z",
          "iopub.execute_input": "2024-12-22T23:47:53.239665Z",
          "iopub.status.idle": "2024-12-22T23:47:53.253552Z",
          "shell.execute_reply.started": "2024-12-22T23:47:53.239638Z",
          "shell.execute_reply": "2024-12-22T23:47:53.252405Z"
        },
        "id": "710c19ee-46a3-4468-80f6-b6eb24aeacd9"
      },
      "outputs": [],
      "execution_count": null
    },
    {
      "cell_type": "code",
      "source": [
        "df.duplicated().sum()"
      ],
      "metadata": {
        "trusted": true,
        "execution": {
          "iopub.status.busy": "2024-12-22T23:47:53.254573Z",
          "iopub.execute_input": "2024-12-22T23:47:53.254885Z",
          "iopub.status.idle": "2024-12-22T23:47:53.402364Z",
          "shell.execute_reply.started": "2024-12-22T23:47:53.254859Z",
          "shell.execute_reply": "2024-12-22T23:47:53.400991Z"
        },
        "id": "2e8f8bbf-813e-4301-89e9-e53ae2a60bb6"
      },
      "outputs": [],
      "execution_count": null
    },
    {
      "cell_type": "code",
      "source": [
        "categories= df['genre'].unique()\n",
        "categories"
      ],
      "metadata": {
        "trusted": true,
        "execution": {
          "iopub.status.busy": "2024-12-22T23:47:53.403571Z",
          "iopub.execute_input": "2024-12-22T23:47:53.403977Z",
          "iopub.status.idle": "2024-12-22T23:47:53.415277Z",
          "shell.execute_reply.started": "2024-12-22T23:47:53.40394Z",
          "shell.execute_reply": "2024-12-22T23:47:53.414141Z"
        },
        "id": "62ed69a9-4ef0-47a4-81ef-163c57183ca3"
      },
      "outputs": [],
      "execution_count": null
    },
    {
      "cell_type": "code",
      "source": [
        "values= df['genre'].value_counts()\n",
        "values"
      ],
      "metadata": {
        "trusted": true,
        "execution": {
          "iopub.status.busy": "2024-12-22T23:47:53.416485Z",
          "iopub.execute_input": "2024-12-22T23:47:53.416912Z",
          "iopub.status.idle": "2024-12-22T23:47:53.438384Z",
          "shell.execute_reply.started": "2024-12-22T23:47:53.416882Z",
          "shell.execute_reply": "2024-12-22T23:47:53.437321Z"
        },
        "id": "6e145268-f347-4b9a-940b-ac11e62d3d06"
      },
      "outputs": [],
      "execution_count": null
    },
    {
      "cell_type": "code",
      "source": [
        "plt.figure(figsize=(20,10))\n",
        "colors = [ '#264653']\n",
        "plt.bar(categories,values,color=colors)\n",
        "plt.tick_params(axis='x', labelsize=12, rotation=45)\n",
        "plt.title('Number Of Movies By Gener',fontsize=20)\n",
        "plt.ylabel('Number of Movies',fontsize=16)\n",
        "plt.xlabel('Genre',fontsize=16)\n",
        "ax = plt.gca()\n",
        "ax.spines['top'].set_visible(False)\n",
        "ax.spines['right'].set_visible(False)\n",
        "plt.show()"
      ],
      "metadata": {
        "trusted": true,
        "execution": {
          "iopub.status.busy": "2024-12-22T23:47:53.439349Z",
          "iopub.execute_input": "2024-12-22T23:47:53.439662Z",
          "iopub.status.idle": "2024-12-22T23:47:53.967479Z",
          "shell.execute_reply.started": "2024-12-22T23:47:53.439636Z",
          "shell.execute_reply": "2024-12-22T23:47:53.966233Z"
        },
        "id": "34693dc9-3f6d-4d2d-a997-1aa962e63da5"
      },
      "outputs": [],
      "execution_count": null
    },
    {
      "cell_type": "code",
      "source": [
        "plt.figure(figsize=(20, 10))\n",
        "colors = [ '#264653']\n",
        "sns.countplot(data= df, y='genre', order= df['genre'].value_counts().index,color= colors[0])\n",
        "plt.title('Number Of Movies By Gener',fontsize=20)\n",
        "plt.ylabel('Genre',fontsize=16)\n",
        "plt.xlabel('Number Of Movies',fontsize=16)\n",
        "ax = plt.gca()\n",
        "ax.set_xticks([])\n",
        "ax.spines['top'].set_visible(False)\n",
        "ax.spines['right'].set_visible(False)\n",
        "ax.spines['bottom'].set_visible(False)\n",
        "for p in ax.patches:\n",
        "    ax.annotate(f'{int(p.get_width())}',\n",
        "                (p.get_width(), p.get_y() + p.get_height() / 2),\n",
        "                ha='center', va='center',\n",
        "                fontsize=12, color='black',\n",
        "                xytext=(20, 0), textcoords='offset points')\n",
        "plt.show()"
      ],
      "metadata": {
        "trusted": true,
        "execution": {
          "iopub.status.busy": "2024-12-22T23:47:53.96912Z",
          "iopub.execute_input": "2024-12-22T23:47:53.969528Z",
          "iopub.status.idle": "2024-12-22T23:47:54.540117Z",
          "shell.execute_reply.started": "2024-12-22T23:47:53.969493Z",
          "shell.execute_reply": "2024-12-22T23:47:54.538819Z"
        },
        "id": "23383730-8208-42ef-9d6f-a2f5467e8824"
      },
      "outputs": [],
      "execution_count": null
    },
    {
      "cell_type": "code",
      "source": [
        "df.columns"
      ],
      "metadata": {
        "trusted": true,
        "execution": {
          "iopub.status.busy": "2024-12-22T23:47:54.541288Z",
          "iopub.execute_input": "2024-12-22T23:47:54.541644Z",
          "iopub.status.idle": "2024-12-22T23:47:54.548362Z",
          "shell.execute_reply.started": "2024-12-22T23:47:54.541617Z",
          "shell.execute_reply": "2024-12-22T23:47:54.547337Z"
        },
        "id": "a0fd77c9-b74f-4120-aafd-843eaeb39040"
      },
      "outputs": [],
      "execution_count": null
    },
    {
      "cell_type": "code",
      "source": [
        "import re\n",
        "import nltk\n",
        "import string\n",
        "from nltk.corpus import stopwords\n",
        "from nltk.stem import LancasterStemmer\n",
        "from sklearn.feature_extraction.text import TfidfVectorizer\n",
        "from sklearn.model_selection import train_test_split\n",
        "from sklearn.naive_bayes import MultinomialNB\n",
        "from sklearn.metrics import accuracy_score, classification_report"
      ],
      "metadata": {
        "trusted": true,
        "execution": {
          "iopub.status.busy": "2024-12-22T23:47:54.551939Z",
          "iopub.execute_input": "2024-12-22T23:47:54.552216Z",
          "iopub.status.idle": "2024-12-22T23:47:55.553388Z",
          "shell.execute_reply.started": "2024-12-22T23:47:54.552193Z",
          "shell.execute_reply": "2024-12-22T23:47:55.55215Z"
        },
        "id": "2ccd80a6-918c-41ce-b33a-36e2b4e7dae9"
      },
      "outputs": [],
      "execution_count": null
    },
    {
      "cell_type": "code",
      "source": [
        "nltk.download('stopwords')\n",
        "nltk.download('punkt')\n",
        "stemmer = LancasterStemmer()\n",
        "stop_words = set(stopwords.words('english'))\n",
        "def text_cleaner(text):\n",
        "    text = text.lower()\n",
        "    text = re.sub(r'[^\\w\\s]', '',text)\n",
        "    text = re.sub(r'http\\S+', '', text)\n",
        "    text = re.sub(r'pic.\\S+', '', text)\n",
        "    text = re.sub(r\"[^a-zA-Z+']\",' ', text)\n",
        "    text = re.sub(r'\\s+[a-zA-Z]\\s+', ' ',text + ' ')\n",
        "    text = \"\".join([i for i in text if i not in string.punctuation])\n",
        "    words = nltk.word_tokenize(text)\n",
        "    stopwords = nltk.corpus.stopwords.words('english')\n",
        "    text = \" \".join([i for i in words if i not in stopwords and len(i) > 2])\n",
        "    text = re.sub(\"\\s[\\s]+\", \" \", text).strip()\n",
        "    return text\n"
      ],
      "metadata": {
        "trusted": true,
        "execution": {
          "iopub.status.busy": "2024-12-22T23:47:55.55497Z",
          "iopub.execute_input": "2024-12-22T23:47:55.555301Z",
          "iopub.status.idle": "2024-12-22T23:47:55.724352Z",
          "shell.execute_reply.started": "2024-12-22T23:47:55.555259Z",
          "shell.execute_reply": "2024-12-22T23:47:55.722843Z"
        },
        "id": "d9ac830f-83f1-4051-bd5d-fdc379731baf"
      },
      "outputs": [],
      "execution_count": null
    },
    {
      "cell_type": "code",
      "source": [
        "print(nltk.data.path)"
      ],
      "metadata": {
        "trusted": true,
        "execution": {
          "iopub.status.busy": "2024-12-22T23:47:55.725616Z",
          "iopub.execute_input": "2024-12-22T23:47:55.725974Z",
          "iopub.status.idle": "2024-12-22T23:47:55.731924Z",
          "shell.execute_reply.started": "2024-12-22T23:47:55.725936Z",
          "shell.execute_reply": "2024-12-22T23:47:55.73081Z"
        },
        "id": "add7698f-7420-48e8-8d5b-7446e67d4a3a"
      },
      "outputs": [],
      "execution_count": null
    },
    {
      "cell_type": "code",
      "source": [
        "df['Description_cleand'] = df['description'].apply(text_cleaner)\n",
        "df_test['Desciption_cleaned_test'] = df_test['description'].apply(text_cleaner)"
      ],
      "metadata": {
        "trusted": true,
        "execution": {
          "iopub.status.busy": "2024-12-22T23:47:55.733025Z",
          "iopub.execute_input": "2024-12-22T23:47:55.733385Z",
          "iopub.status.idle": "2024-12-22T23:49:39.905248Z",
          "shell.execute_reply.started": "2024-12-22T23:47:55.733352Z",
          "shell.execute_reply": "2024-12-22T23:49:39.90396Z"
        },
        "id": "d4d0f8c5-3fe1-407b-ae8b-e5da4bf01add"
      },
      "outputs": [],
      "execution_count": null
    },
    {
      "cell_type": "code",
      "source": [
        "df['Description_len'] = df['description'].apply(len)\n",
        "df['Description_cleand_len'] = df['Description_cleand'].apply(len)"
      ],
      "metadata": {
        "trusted": true,
        "execution": {
          "iopub.status.busy": "2024-12-22T23:49:39.906642Z",
          "iopub.execute_input": "2024-12-22T23:49:39.90699Z",
          "iopub.status.idle": "2024-12-22T23:49:39.966014Z",
          "shell.execute_reply.started": "2024-12-22T23:49:39.906964Z",
          "shell.execute_reply": "2024-12-22T23:49:39.964596Z"
        },
        "id": "8e5247e1-6bf4-4f2f-8b93-377fff5406f2"
      },
      "outputs": [],
      "execution_count": null
    },
    {
      "cell_type": "code",
      "source": [
        "df"
      ],
      "metadata": {
        "trusted": true,
        "execution": {
          "iopub.status.busy": "2024-12-22T23:49:39.967039Z",
          "iopub.execute_input": "2024-12-22T23:49:39.967324Z",
          "iopub.status.idle": "2024-12-22T23:49:39.983506Z",
          "shell.execute_reply.started": "2024-12-22T23:49:39.967297Z",
          "shell.execute_reply": "2024-12-22T23:49:39.9823Z"
        },
        "id": "75618133-35a6-4bfa-a307-273f4f1edfc7"
      },
      "outputs": [],
      "execution_count": null
    },
    {
      "cell_type": "code",
      "source": [
        "df_test"
      ],
      "metadata": {
        "trusted": true,
        "execution": {
          "iopub.status.busy": "2024-12-22T23:49:39.98459Z",
          "iopub.execute_input": "2024-12-22T23:49:39.984971Z",
          "iopub.status.idle": "2024-12-22T23:49:40.008413Z",
          "shell.execute_reply.started": "2024-12-22T23:49:39.98494Z",
          "shell.execute_reply": "2024-12-22T23:49:40.007076Z"
        },
        "id": "0e2f8c29-dcd0-4f11-b33b-91cd05b1b515"
      },
      "outputs": [],
      "execution_count": null
    },
    {
      "cell_type": "code",
      "source": [
        "plt.figure(figsize=(12, 6))\n",
        "sns.kdeplot(df['Description_len'], label='Description length',alpha=0.5)\n",
        "sns.kdeplot(df['Description_cleand_len'], label='Description cleaned length',alpha=0.5)\n",
        "ax = plt.gca()\n",
        "#ax.set_xticks([])\n",
        "ax.spines['top'].set_visible(False)\n",
        "ax.spines['right'].set_visible(False)\n",
        "#ax.spines['bottom'].set_visible(False)\n",
        "plt.title('Distribution of Text Lengths')\n",
        "plt.xlabel('Text Length')\n",
        "plt.ylabel('Frequency')\n",
        "plt.legend()\n",
        "\n",
        ""
      ],
      "metadata": {
        "trusted": true,
        "execution": {
          "iopub.status.busy": "2024-12-22T23:49:40.009449Z",
          "iopub.execute_input": "2024-12-22T23:49:40.009787Z",
          "iopub.status.idle": "2024-12-22T23:49:41.052298Z",
          "shell.execute_reply.started": "2024-12-22T23:49:40.00976Z",
          "shell.execute_reply": "2024-12-22T23:49:41.050894Z"
        },
        "id": "47dddbfd-ab81-4c9d-aea6-ce8d56f91f15"
      },
      "outputs": [],
      "execution_count": null
    },
    {
      "cell_type": "code",
      "source": [
        "tfidf_vectorizer = TfidfVectorizer()\n",
        "X_trian = tfidf_vectorizer.fit_transform(df['Description_cleand'])\n",
        "X_test = tfidf_vectorizer.transform(df_test['Desciption_cleaned_test'])"
      ],
      "metadata": {
        "trusted": true,
        "execution": {
          "iopub.status.busy": "2024-12-22T23:49:41.053536Z",
          "iopub.execute_input": "2024-12-22T23:49:41.053998Z",
          "iopub.status.idle": "2024-12-22T23:49:48.260137Z",
          "shell.execute_reply.started": "2024-12-22T23:49:41.05396Z",
          "shell.execute_reply": "2024-12-22T23:49:48.258876Z"
        },
        "id": "80f99838-41f8-40f2-a832-7e0c07b65522"
      },
      "outputs": [],
      "execution_count": null
    },
    {
      "cell_type": "code",
      "source": [
        "print('shape_train : ', X_trian.shape)\n",
        "print('shape_test : ', X_test.shape)"
      ],
      "metadata": {
        "trusted": true,
        "execution": {
          "iopub.status.busy": "2024-12-22T23:49:48.26129Z",
          "iopub.execute_input": "2024-12-22T23:49:48.261598Z",
          "iopub.status.idle": "2024-12-22T23:49:48.269148Z",
          "shell.execute_reply.started": "2024-12-22T23:49:48.261572Z",
          "shell.execute_reply": "2024-12-22T23:49:48.267912Z"
        },
        "id": "86e08159-d3a9-4554-97b5-3649afc0632b"
      },
      "outputs": [],
      "execution_count": null
    },
    {
      "cell_type": "code",
      "source": [
        "X = X_trian\n",
        "y = df['genre']\n",
        "X_train, X_val, y_train, y_val = train_test_split(X, y, test_size=0.2, random_state=42)\n",
        "classifier = MultinomialNB()\n",
        "classifier.fit(X_train, y_train)\n",
        "y_pred = classifier.predict(X_val)\n",
        "accuracy = accuracy_score(y_val, y_pred)\n",
        "print(\"Validation Accuracy:\", accuracy)\n",
        "print(classification_report(y_val, y_pred))"
      ],
      "metadata": {
        "trusted": true,
        "execution": {
          "iopub.status.busy": "2024-12-22T23:49:48.270335Z",
          "iopub.execute_input": "2024-12-22T23:49:48.270644Z",
          "iopub.status.idle": "2024-12-22T23:49:49.127688Z",
          "shell.execute_reply.started": "2024-12-22T23:49:48.270618Z",
          "shell.execute_reply": "2024-12-22T23:49:49.126113Z"
        },
        "id": "1324179e-4c01-48d4-a7cd-276ea2ad0833"
      },
      "outputs": [],
      "execution_count": null
    },
    {
      "cell_type": "code",
      "source": [
        "X_test_predictions = classifier.predict(X_test)\n",
        "df_test['Predicted_Genre'] = X_test_predictions"
      ],
      "metadata": {
        "trusted": true,
        "execution": {
          "iopub.status.busy": "2024-12-22T23:49:49.128876Z",
          "iopub.execute_input": "2024-12-22T23:49:49.129261Z",
          "iopub.status.idle": "2024-12-22T23:49:49.24204Z",
          "shell.execute_reply.started": "2024-12-22T23:49:49.129222Z",
          "shell.execute_reply": "2024-12-22T23:49:49.24072Z"
        },
        "id": "b5f6fb7a-8b53-47b1-ae5c-0ac4ba706372"
      },
      "outputs": [],
      "execution_count": null
    },
    {
      "cell_type": "code",
      "source": [
        "df_test"
      ],
      "metadata": {
        "trusted": true,
        "execution": {
          "iopub.status.busy": "2024-12-22T23:49:49.24305Z",
          "iopub.execute_input": "2024-12-22T23:49:49.243315Z",
          "iopub.status.idle": "2024-12-22T23:49:49.25763Z",
          "shell.execute_reply.started": "2024-12-22T23:49:49.243292Z",
          "shell.execute_reply": "2024-12-22T23:49:49.256037Z"
        },
        "id": "3637bdee-c2c0-4422-9df5-5af8a36b8fa2"
      },
      "outputs": [],
      "execution_count": null
    },
    {
      "cell_type": "code",
      "source": [],
      "metadata": {
        "trusted": true,
        "id": "2da1e801-632a-48cc-ac75-aee69706df4f"
      },
      "outputs": [],
      "execution_count": null
    }
  ]
}