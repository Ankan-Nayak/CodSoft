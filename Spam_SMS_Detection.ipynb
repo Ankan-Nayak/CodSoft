{
  "metadata": {
    "kernelspec": {
      "language": "python",
      "display_name": "Python 3",
      "name": "python3"
    },
    "language_info": {
      "name": "python",
      "version": "3.11.11",
      "mimetype": "text/x-python",
      "codemirror_mode": {
        "name": "ipython",
        "version": 3
      },
      "pygments_lexer": "ipython3",
      "nbconvert_exporter": "python",
      "file_extension": ".py"
    },
    "kaggle": {
      "accelerator": "none",
      "dataSources": [
        {
          "sourceId": 982,
          "sourceType": "datasetVersion",
          "datasetId": 483
        }
      ],
      "dockerImageVersionId": 31040,
      "isInternetEnabled": true,
      "language": "python",
      "sourceType": "notebook",
      "isGpuEnabled": false
    },
    "colab": {
      "name": "Spam Classifier",
      "provenance": [],
      "include_colab_link": true
    }
  },
  "nbformat_minor": 0,
  "nbformat": 4,
  "cells": [
    {
      "cell_type": "markdown",
      "metadata": {
        "id": "view-in-github",
        "colab_type": "text"
      },
      "source": [
        "<a href=\"https://colab.research.google.com/github/Ankan-Nayak/CodSoft/blob/main/Spam_SMS_Detection.ipynb\" target=\"_parent\"><img src=\"https://colab.research.google.com/assets/colab-badge.svg\" alt=\"Open In Colab\"/></a>"
      ]
    },
    {
      "source": [
        "import kagglehub\n",
        "organizations_uciml_sms_spam_collection_dataset_path = kagglehub.dataset_download('organizations/uciml/sms-spam-collection-dataset')\n",
        "\n",
        "print('Data source import complete.')\n"
      ],
      "metadata": {
        "id": "s99NTYm0gucD"
      },
      "cell_type": "code",
      "outputs": [],
      "execution_count": null
    },
    {
      "cell_type": "code",
      "source": [
        "import pandas as pd\n",
        "import numpy as np\n",
        "from sklearn.feature_extraction.text import TfidfVectorizer\n",
        "from sklearn.naive_bayes import MultinomialNB\n",
        "from sklearn.model_selection import train_test_split, GridSearchCV\n",
        "from sklearn.metrics import accuracy_score, classification_report, confusion_matrix\n",
        "from sklearn.pipeline import Pipeline\n",
        "import matplotlib.pyplot as plt\n",
        "import seaborn as sns"
      ],
      "metadata": {
        "_uuid": "8f2839f25d086af736a60e9eeb907d3b93b6e0e5",
        "_cell_guid": "b1076dfc-b9ad-4769-8c92-a6c4dae69d19",
        "trusted": true,
        "execution": {
          "iopub.status.busy": "2025-05-18T06:45:55.29945Z",
          "iopub.execute_input": "2025-05-18T06:45:55.299817Z",
          "iopub.status.idle": "2025-05-18T06:45:56.482714Z",
          "shell.execute_reply.started": "2025-05-18T06:45:55.299791Z",
          "shell.execute_reply": "2025-05-18T06:45:56.481761Z"
        },
        "id": "vHWpKLUlgucE"
      },
      "outputs": [],
      "execution_count": null
    },
    {
      "cell_type": "code",
      "source": [
        "data = pd.read_csv('/kaggle/input/sms-spam-collection-dataset/spam.csv', encoding='ISO-8859-1')\n",
        "data.head()"
      ],
      "metadata": {
        "trusted": true,
        "execution": {
          "iopub.status.busy": "2025-05-18T06:42:43.858428Z",
          "iopub.execute_input": "2025-05-18T06:42:43.859276Z",
          "iopub.status.idle": "2025-05-18T06:42:43.92389Z",
          "shell.execute_reply.started": "2025-05-18T06:42:43.859248Z",
          "shell.execute_reply": "2025-05-18T06:42:43.923077Z"
        },
        "id": "v6gvmplagucF"
      },
      "outputs": [],
      "execution_count": null
    },
    {
      "cell_type": "code",
      "source": [
        "data = data[['v1', 'v2']]\n",
        "data.columns = ['label', 'text']"
      ],
      "metadata": {
        "trusted": true,
        "execution": {
          "iopub.status.busy": "2025-05-18T06:46:18.194738Z",
          "iopub.execute_input": "2025-05-18T06:46:18.195214Z",
          "iopub.status.idle": "2025-05-18T06:46:18.207707Z",
          "shell.execute_reply.started": "2025-05-18T06:46:18.195185Z",
          "shell.execute_reply": "2025-05-18T06:46:18.206982Z"
        },
        "id": "e5kQ8tF6gucF"
      },
      "outputs": [],
      "execution_count": null
    },
    {
      "cell_type": "code",
      "source": [
        "data['label'] = data['label'].map({'ham': 0, \"spam\": 1})\n",
        "X_train, X_test, y_train, y_test = train_test_split(\n",
        "    data['text'], data['label'], test_size=0.2, random_state=42\n",
        ")"
      ],
      "metadata": {
        "trusted": true,
        "execution": {
          "iopub.status.busy": "2025-05-18T06:47:03.625772Z",
          "iopub.execute_input": "2025-05-18T06:47:03.626127Z",
          "iopub.status.idle": "2025-05-18T06:47:03.636394Z",
          "shell.execute_reply.started": "2025-05-18T06:47:03.626099Z",
          "shell.execute_reply": "2025-05-18T06:47:03.635491Z"
        },
        "id": "kWYt9L2cgucG"
      },
      "outputs": [],
      "execution_count": null
    },
    {
      "cell_type": "code",
      "source": [
        "pipeline = Pipeline([\n",
        "    ('tfidf', TfidfVectorizer()),\n",
        "    ('clf', MultinomialNB())\n",
        "])"
      ],
      "metadata": {
        "trusted": true,
        "execution": {
          "iopub.status.busy": "2025-05-18T06:47:40.702099Z",
          "iopub.execute_input": "2025-05-18T06:47:40.702706Z",
          "iopub.status.idle": "2025-05-18T06:47:40.707142Z",
          "shell.execute_reply.started": "2025-05-18T06:47:40.70268Z",
          "shell.execute_reply": "2025-05-18T06:47:40.706056Z"
        },
        "id": "g3C-1gVEgucG"
      },
      "outputs": [],
      "execution_count": null
    },
    {
      "cell_type": "code",
      "source": [
        "params = {\n",
        "    'tfidf__max_features': [1000, 2000, 5000],\n",
        "    'tfidf__ngram_range': [(1, 1), (1, 2)],\n",
        "    'clf__alpha': [0.1, 0.5, 1.0]\n",
        "}\n",
        "grid_search = GridSearchCV(pipeline, params, cv=5, scoring='accuracy', n_jobs=-1)\n",
        "grid_search.fit(X_train, y_train)"
      ],
      "metadata": {
        "trusted": true,
        "execution": {
          "iopub.status.busy": "2025-05-18T06:48:51.518551Z",
          "iopub.execute_input": "2025-05-18T06:48:51.519409Z",
          "iopub.status.idle": "2025-05-18T06:48:59.532693Z",
          "shell.execute_reply.started": "2025-05-18T06:48:51.519381Z",
          "shell.execute_reply": "2025-05-18T06:48:59.531902Z"
        },
        "id": "V2-5rZvygucG"
      },
      "outputs": [],
      "execution_count": null
    },
    {
      "cell_type": "code",
      "source": [
        "best_model = grid_search.best_estimator_\n",
        "print(\"Best Parameters:\", grid_search.best_params_)"
      ],
      "metadata": {
        "trusted": true,
        "execution": {
          "iopub.status.busy": "2025-05-18T06:49:18.336442Z",
          "iopub.execute_input": "2025-05-18T06:49:18.336717Z",
          "iopub.status.idle": "2025-05-18T06:49:18.341865Z",
          "shell.execute_reply.started": "2025-05-18T06:49:18.336699Z",
          "shell.execute_reply": "2025-05-18T06:49:18.341133Z"
        },
        "id": "CyKTpHaggucH"
      },
      "outputs": [],
      "execution_count": null
    },
    {
      "cell_type": "code",
      "source": [
        "y_pred = best_model.predict(X_test)\n",
        "print(\"\\nTest Accuracy:\", accuracy_score(y_test, y_pred))\n",
        "print(\"\\nClassification Report:\\n\", classification_report(y_test, y_pred))"
      ],
      "metadata": {
        "trusted": true,
        "execution": {
          "iopub.status.busy": "2025-05-18T06:49:58.092644Z",
          "iopub.execute_input": "2025-05-18T06:49:58.092984Z",
          "iopub.status.idle": "2025-05-18T06:49:58.140151Z",
          "shell.execute_reply.started": "2025-05-18T06:49:58.092922Z",
          "shell.execute_reply": "2025-05-18T06:49:58.139318Z"
        },
        "id": "AROT7IWkgucH"
      },
      "outputs": [],
      "execution_count": null
    },
    {
      "cell_type": "code",
      "source": [
        "cm = confusion_matrix(y_test, y_pred)\n",
        "sns.heatmap(cm, annot=True, fmt='d', cmap='Blues', xticklabels=['ham', 'spam'], yticklabels=['ham', 'spam'])\n",
        "plt.xlabel('Predicted')\n",
        "plt.ylabel('Actual')\n",
        "plt.title('Confusion Matrix')\n",
        "plt.show()"
      ],
      "metadata": {
        "trusted": true,
        "execution": {
          "iopub.status.busy": "2025-05-18T06:51:25.155024Z",
          "iopub.execute_input": "2025-05-18T06:51:25.155334Z",
          "iopub.status.idle": "2025-05-18T06:51:25.33278Z",
          "shell.execute_reply.started": "2025-05-18T06:51:25.155312Z",
          "shell.execute_reply": "2025-05-18T06:51:25.332008Z"
        },
        "id": "vXb9ma76gucH"
      },
      "outputs": [],
      "execution_count": null
    },
    {
      "cell_type": "code",
      "source": [],
      "metadata": {
        "trusted": true,
        "id": "Tn6mgmULgucI"
      },
      "outputs": [],
      "execution_count": null
    }
  ]
}